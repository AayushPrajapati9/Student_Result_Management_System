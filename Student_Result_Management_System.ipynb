{
 "cells": [
  {
   "cell_type": "markdown",
   "id": "bad95964",
   "metadata": {},
   "source": [
    "# 🎓 Student Result Management System\n",
    "\n",
    "## 📘 Project Documentation\n",
    "\n",
    "**Methodology:**\n",
    "1. Stored student data in a Pandas DataFrame.\n",
    "2. Calculated each student's total marks and percentage.\n",
    "3. Applied Pass/Fail condition (40 marks rule).\n",
    "4. Assigned grades.\n",
    "5. Performed topper and subject-wise analysis.\n",
    "\n",
    "**Challenges:**\n",
    "- Arranging the data in the correct format.\n",
    "- Creating logic so that Pass/Fail and Grades are auto-calculated.\n",
    "\n",
    "**Conclusion:**\n",
    "This system auto-generates results for School/College students.\n",
    "This eliminates the need for teachers to do manual calculations and provides instant reports."
   ]
  },
  {
   "cell_type": "code",
   "execution_count": 1,
   "id": "80dec0ef",
   "metadata": {
    "execution": {
     "iopub.execute_input": "2025-08-16T18:23:00.617636Z",
     "iopub.status.busy": "2025-08-16T18:23:00.617395Z",
     "iopub.status.idle": "2025-08-16T18:23:05.542614Z",
     "shell.execute_reply": "2025-08-16T18:23:05.541424Z"
    }
   },
   "outputs": [
    {
     "name": "stdout",
     "output_type": "stream",
     "text": [
      "Defaulting to user installation because normal site-packages is not writeable\r\n"
     ]
    },
    {
     "name": "stdout",
     "output_type": "stream",
     "text": [
      "Requirement already satisfied: pandas in /home/sandbox/.local/lib/python3.11/site-packages (1.5.3)\r\n",
      "Requirement already satisfied: python-dateutil>=2.8.1 in /home/sandbox/.local/lib/python3.11/site-packages (from pandas) (2.9.0.post0)\r\n",
      "Requirement already satisfied: pytz>=2020.1 in /home/sandbox/.local/lib/python3.11/site-packages (from pandas) (2025.2)\r\n"
     ]
    },
    {
     "name": "stdout",
     "output_type": "stream",
     "text": [
      "Requirement already satisfied: numpy>=1.21.0 in /home/sandbox/.local/lib/python3.11/site-packages (from pandas) (1.24.0)\r\n",
      "Requirement already satisfied: six>=1.5 in /home/sandbox/.local/lib/python3.11/site-packages (from python-dateutil>=2.8.1->pandas) (1.17.0)\r\n"
     ]
    }
   ],
   "source": [
    "# Step 1: Environment Setup\n",
    "!pip install pandas"
   ]
  },
  {
   "cell_type": "code",
   "execution_count": 2,
   "id": "e06ff9cf",
   "metadata": {
    "execution": {
     "iopub.execute_input": "2025-08-16T18:23:05.546665Z",
     "iopub.status.busy": "2025-08-16T18:23:05.546391Z",
     "iopub.status.idle": "2025-08-16T18:23:06.533664Z",
     "shell.execute_reply": "2025-08-16T18:23:06.532937Z"
    }
   },
   "outputs": [
    {
     "name": "stdout",
     "output_type": "stream",
     "text": [
      "🎓 Student Marks Data:\n",
      "   Roll_No   Name  Maths  Science  English\n",
      "0      101   Aman     88       92       75\n",
      "1      102   Neha     76       85       89\n",
      "2      103  Rohit     95       90       80\n",
      "3      104  Priya     67       70       72\n",
      "4      105  Karan     80       60       65\n"
     ]
    }
   ],
   "source": [
    "# Step 2: Organizing Notebook & Data Input\n",
    "import pandas as pd\n",
    "\n",
    "# Creating students data (Name, Roll No, Subject Marks)\n",
    "data = {\n",
    "    \"Roll_No\": [101, 102, 103, 104, 105],\n",
    "    \"Name\": [\"Aman\", \"Neha\", \"Rohit\", \"Priya\", \"Karan\"],\n",
    "    \"Maths\": [88, 76, 95, 67, 80],\n",
    "    \"Science\": [92, 85, 90, 70, 60],\n",
    "    \"English\": [75, 89, 80, 72, 65]\n",
    "}\n",
    "\n",
    "df = pd.DataFrame(data)\n",
    "print(\"🎓 Student Marks Data:\")\n",
    "print(df)"
   ]
  },
  {
   "cell_type": "code",
   "execution_count": 3,
   "id": "d41791d0",
   "metadata": {
    "execution": {
     "iopub.execute_input": "2025-08-16T18:23:06.537547Z",
     "iopub.status.busy": "2025-08-16T18:23:06.537152Z",
     "iopub.status.idle": "2025-08-16T18:23:06.576040Z",
     "shell.execute_reply": "2025-08-16T18:23:06.575012Z"
    }
   },
   "outputs": [
    {
     "name": "stdout",
     "output_type": "stream",
     "text": [
      "📊 Final Result Data:\n",
      "   Roll_No   Name  Maths  Science  English  Total  Percentage Result Grade\n",
      "0      101   Aman     88       92       75    255   85.000000   Pass     A\n",
      "1      102   Neha     76       85       89    250   83.333333   Pass     A\n",
      "2      103  Rohit     95       90       80    265   88.333333   Pass     A\n",
      "3      104  Priya     67       70       72    209   69.666667   Pass     B\n",
      "4      105  Karan     80       60       65    205   68.333333   Pass     B\n"
     ]
    }
   ],
   "source": [
    "# Step 3: Result Calculation (Pass/Fail, Percentage, Grade)\n",
    "\n",
    "# Calculating percentage\n",
    "df[\"Total\"] = df[\"Maths\"] + df[\"Science\"] + df[\"English\"]\n",
    "df[\"Percentage\"] = df[\"Total\"] / 3\n",
    "\n",
    "# Pass/Fail Condition (>= 40 in all subjects)\n",
    "def pass_fail(row):\n",
    "    if row[\"Maths\"] >= 40 and row[\"Science\"] >= 40 and row[\"English\"] >= 40:\n",
    "        return \"Pass\"\n",
    "    else:\n",
    "        return \"Fail\"\n",
    "\n",
    "df[\"Result\"] = df.apply(pass_fail, axis=1)\n",
    "\n",
    "# Assigning grades\n",
    "def grade(p):\n",
    "    if p >= 90:\n",
    "        return \"A+\"\n",
    "    elif p >= 75:\n",
    "        return \"A\"\n",
    "    elif p >= 60:\n",
    "        return \"B\"\n",
    "    elif p >= 40:\n",
    "        return \"C\"\n",
    "    else:\n",
    "        return \"F\"\n",
    "\n",
    "df[\"Grade\"] = df[\"Percentage\"].apply(grade)\n",
    "\n",
    "print(\"📊 Final Result Data:\")\n",
    "print(df)"
   ]
  },
  {
   "cell_type": "code",
   "execution_count": 4,
   "id": "d62d7f9e",
   "metadata": {
    "execution": {
     "iopub.execute_input": "2025-08-16T18:23:06.579902Z",
     "iopub.status.busy": "2025-08-16T18:23:06.579636Z",
     "iopub.status.idle": "2025-08-16T18:23:06.586776Z",
     "shell.execute_reply": "2025-08-16T18:23:06.586155Z"
    }
   },
   "outputs": [
    {
     "name": "stdout",
     "output_type": "stream",
     "text": [
      "\n",
      "🏆 Class Topper:\n",
      "Roll_No             103\n",
      "Name              Rohit\n",
      "Maths                95\n",
      "Science              90\n",
      "English              80\n",
      "Total               265\n",
      "Percentage    88.333333\n",
      "Result             Pass\n",
      "Grade                 A\n",
      "Name: 2, dtype: object\n",
      "\n",
      "📌 Highest Scorer in Each Subject:\n",
      "Maths Topper: Rohit\n",
      "Science Topper: Aman\n",
      "English Topper: Neha\n"
     ]
    }
   ],
   "source": [
    "# Step 4: Evaluation & Analysis\n",
    "\n",
    "# Class Topper\n",
    "topper = df.loc[df[\"Percentage\"].idxmax()]\n",
    "print(\"\\n🏆 Class Topper:\")\n",
    "print(topper)\n",
    "\n",
    "# Subject-wise Highest Scorer\n",
    "print(\"\\n📌 Highest Scorer in Each Subject:\")\n",
    "print(\"Maths Topper:\", df.loc[df[\"Maths\"].idxmax(), \"Name\"])\n",
    "print(\"Science Topper:\", df.loc[df[\"Science\"].idxmax(), \"Name\"])\n",
    "print(\"English Topper:\", df.loc[df[\"English\"].idxmax(), \"Name\"])"
   ]
  }
 ],
 "metadata": {
  "language_info": {
   "codemirror_mode": {
    "name": "ipython",
    "version": 3
   },
   "file_extension": ".py",
   "mimetype": "text/x-python",
   "name": "python",
   "nbconvert_exporter": "python",
   "pygments_lexer": "ipython3",
   "version": "3.11.8"
  }
 },
 "nbformat": 4,
 "nbformat_minor": 5
}
